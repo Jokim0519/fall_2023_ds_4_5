{
 "cells": [
  {
   "cell_type": "markdown",
   "id": "3b8e31af",
   "metadata": {},
   "source": [
    "# Day5\n",
    "* Basic_Operations\n",
    "* Integers\n",
    "* Strings\n",
    "* List\n",
    "* Data_Types"
   ]
  },
  {
   "cell_type": "markdown",
   "id": "887f8d02",
   "metadata": {},
   "source": [
    "|First_Name |Last_Name|\n",
    "|-----------|---------|\n",
    "|Jokim      |Bryant   |\n",
    "|LaKrystal  |Simmons  |"
   ]
  },
  {
   "cell_type": "markdown",
   "id": "ed573e12",
   "metadata": {},
   "source": [
    "$S = \\sum_1^9(x^2)$"
   ]
  },
  {
   "cell_type": "code",
   "execution_count": null,
   "id": "dcdfbd9e",
   "metadata": {},
   "outputs": [],
   "source": []
  }
 ],
 "metadata": {
  "kernelspec": {
   "display_name": "Python 3 (ipykernel)",
   "language": "python",
   "name": "python3"
  },
  "language_info": {
   "codemirror_mode": {
    "name": "ipython",
    "version": 3
   },
   "file_extension": ".py",
   "mimetype": "text/x-python",
   "name": "python",
   "nbconvert_exporter": "python",
   "pygments_lexer": "ipython3",
   "version": "3.11.4"
  }
 },
 "nbformat": 4,
 "nbformat_minor": 5
}
